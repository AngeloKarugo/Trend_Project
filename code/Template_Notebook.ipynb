{
 "cells": [
  {
   "cell_type": "code",
   "execution_count": 1,
   "id": "cced3003",
   "metadata": {},
   "outputs": [],
   "source": [
    "import numpy as np\n",
    "import pandas as pd\n",
    "import matplotlib.pyplot as plt\n",
    "%matplotlib inline\n",
    "#add other imports as needed"
   ]
  },
  {
   "cell_type": "code",
   "execution_count": 2,
   "id": "a1cd632b",
   "metadata": {},
   "outputs": [],
   "source": [
    "import os"
   ]
  },
  {
   "cell_type": "code",
   "execution_count": 3,
   "id": "8f4f00fb",
   "metadata": {},
   "outputs": [],
   "source": [
    "import platform\n",
    "\n",
    "# Set file location based on platform. \n",
    "platstring = platform.platform()\n",
    "if ('Darwin' in platstring) or ('macOS' in platstring):\n",
    "    # macOS \n",
    "    data_root = \"/Volumes/TReND2024/\"\n",
    "elif 'Windows'  in platstring:\n",
    "    # Windows (replace with the drive letter of USB drive)\n",
    "    data_root = \"E:/\"\n",
    "elif ('amzn' in platstring):\n",
    "    # then on Code Ocean\n",
    "    data_root = \"/data/\"\n",
    "else:\n",
    "    # then your own linux platform\n",
    "    # EDIT location where you mounted hard drive\n",
    "    data_root = \"/media/$USERNAME/TReND2024/\""
   ]
  },
  {
   "cell_type": "markdown",
   "id": "ea200a3a",
   "metadata": {},
   "source": [
    "Use the code block below to access the Two-Photon Calcium Imaging data set.  This is what we used in the tutorials."
   ]
  },
  {
   "cell_type": "code",
   "execution_count": 4,
   "id": "131f82b5",
   "metadata": {},
   "outputs": [],
   "source": [
    "from allensdk.core.brain_observatory_cache import BrainObservatoryCache\n",
    "\n",
    "manifest_file = os.path.join(data_root,'allen-brain-observatory/visual-coding-2p/manifest.json')\n",
    "\n",
    "boc = BrainObservatoryCache(manifest_file=manifest_file)"
   ]
  },
  {
   "cell_type": "markdown",
   "id": "4139aa32",
   "metadata": {},
   "source": [
    "Use code below to access Neuropixels data set.  This is electrophysiological data.  It is very similar to the data set we demonstrated, but has important differences, both in the science and in the access methods used in the python tools."
   ]
  },
  {
   "cell_type": "code",
   "execution_count": 6,
   "id": "27787184",
   "metadata": {},
   "outputs": [],
   "source": [
    "from allensdk.brain_observatory.ecephys.ecephys_project_cache import EcephysProjectCache\n",
    "\n",
    "manifest_path = os.path.join(data_root,'allen-brain-observatory/visual-coding-neuropixels/ecephys-cache/manifest.json') \n",
    "\n",
    "cache = EcephysProjectCache.from_warehouse(manifest=manifest_path)"
   ]
  },
  {
   "cell_type": "markdown",
   "id": "bd1f11e0",
   "metadata": {},
   "source": []
  },
  {
   "cell_type": "code",
   "execution_count": 10,
   "id": "7b1f3203",
   "metadata": {},
   "outputs": [
    {
     "data": {
      "text/plain": [
       "1"
      ]
     },
     "execution_count": 10,
     "metadata": {},
     "output_type": "execute_result"
    }
   ],
   "source": [
    "cell_id = 517425536\n",
    "sessions= boc.get_ophys_experiments(cell_specimen_ids =[cell_id], stimuli=['static_gratings'])\n",
    "len(sessions)"
   ]
  },
  {
   "cell_type": "code",
   "execution_count": 11,
   "id": "a8ea70b9",
   "metadata": {},
   "outputs": [
    {
     "data": {
      "text/plain": [
       "[{'id': 502254330,\n",
       "  'imaging_depth': 175,\n",
       "  'targeted_structure': 'VISpm',\n",
       "  'cre_line': 'Cux2-CreERT2',\n",
       "  'reporter_line': 'Ai93(TITL-GCaMP6f)',\n",
       "  'acquisition_age_days': 94,\n",
       "  'experiment_container_id': 511510753,\n",
       "  'session_type': 'three_session_B',\n",
       "  'donor_name': '225036',\n",
       "  'specimen_name': 'Cux2-CreERT2;Camk2a-tTA;Ai93-225036',\n",
       "  'fail_eye_tracking': True}]"
      ]
     },
     "execution_count": 11,
     "metadata": {},
     "output_type": "execute_result"
    }
   ],
   "source": [
    "sessions"
   ]
  },
  {
   "cell_type": "code",
   "execution_count": 15,
   "id": "31b437bd",
   "metadata": {},
   "outputs": [
    {
     "data": {
      "text/plain": [
       "[55]"
      ]
     },
     "execution_count": 15,
     "metadata": {},
     "output_type": "execute_result"
    }
   ],
   "source": [
    "cell_index = data_set.get_cell_specimen_indices([cell_id])\n",
    "\n",
    "cell_index"
   ]
  },
  {
   "cell_type": "code",
   "execution_count": 13,
   "id": "e5bd9f59",
   "metadata": {},
   "outputs": [
    {
     "data": {
      "text/plain": [
       "<allensdk.core.brain_observatory_nwb_data_set.BrainObservatoryNwbDataSet at 0x7f3d4850f0d0>"
      ]
     },
     "execution_count": 13,
     "metadata": {},
     "output_type": "execute_result"
    }
   ],
   "source": [
    "data_set"
   ]
  },
  {
   "cell_type": "code",
   "execution_count": 12,
   "id": "18c1e1ea",
   "metadata": {},
   "outputs": [],
   "source": [
    "data_set=boc.get_ophys_experiment_data(sessions[0])"
   ]
  },
  {
   "cell_type": "code",
   "execution_count": 16,
   "id": "63748d32",
   "metadata": {},
   "outputs": [],
   "source": [
    "timestamps, dff = data_set.get_dff_traces() # get cell responses in the dataset"
   ]
  },
  {
   "cell_type": "code",
   "execution_count": 17,
   "id": "95d3bccd",
   "metadata": {},
   "outputs": [
    {
     "data": {
      "text/plain": [
       "array([  25.43446,   25.46771,   25.50096, ..., 3811.27209, 3811.30535,\n",
       "       3811.3386 ])"
      ]
     },
     "execution_count": 17,
     "metadata": {},
     "output_type": "execute_result"
    }
   ],
   "source": [
    "timestamps"
   ]
  },
  {
   "cell_type": "code",
   "execution_count": 23,
   "id": "99cf5810",
   "metadata": {},
   "outputs": [
    {
     "data": {
      "text/html": [
       "<div>\n",
       "<style scoped>\n",
       "    .dataframe tbody tr th:only-of-type {\n",
       "        vertical-align: middle;\n",
       "    }\n",
       "\n",
       "    .dataframe tbody tr th {\n",
       "        vertical-align: top;\n",
       "    }\n",
       "\n",
       "    .dataframe thead th {\n",
       "        text-align: right;\n",
       "    }\n",
       "</style>\n",
       "<table border=\"1\" class=\"dataframe\">\n",
       "  <thead>\n",
       "    <tr style=\"text-align: right;\">\n",
       "      <th></th>\n",
       "      <th>orientation</th>\n",
       "      <th>spatial_frequency</th>\n",
       "      <th>phase</th>\n",
       "      <th>start</th>\n",
       "      <th>end</th>\n",
       "    </tr>\n",
       "  </thead>\n",
       "  <tbody>\n",
       "    <tr>\n",
       "      <th>0</th>\n",
       "      <td>150.0</td>\n",
       "      <td>0.02</td>\n",
       "      <td>0.75</td>\n",
       "      <td>747</td>\n",
       "      <td>754</td>\n",
       "    </tr>\n",
       "    <tr>\n",
       "      <th>2</th>\n",
       "      <td>0.0</td>\n",
       "      <td>0.16</td>\n",
       "      <td>0.25</td>\n",
       "      <td>762</td>\n",
       "      <td>769</td>\n",
       "    </tr>\n",
       "    <tr>\n",
       "      <th>3</th>\n",
       "      <td>30.0</td>\n",
       "      <td>0.16</td>\n",
       "      <td>0.25</td>\n",
       "      <td>769</td>\n",
       "      <td>776</td>\n",
       "    </tr>\n",
       "    <tr>\n",
       "      <th>4</th>\n",
       "      <td>0.0</td>\n",
       "      <td>0.16</td>\n",
       "      <td>0.00</td>\n",
       "      <td>777</td>\n",
       "      <td>784</td>\n",
       "    </tr>\n",
       "    <tr>\n",
       "      <th>5</th>\n",
       "      <td>150.0</td>\n",
       "      <td>0.02</td>\n",
       "      <td>0.75</td>\n",
       "      <td>784</td>\n",
       "      <td>791</td>\n",
       "    </tr>\n",
       "  </tbody>\n",
       "</table>\n",
       "</div>"
      ],
      "text/plain": [
       "   orientation  spatial_frequency  phase  start  end\n",
       "0        150.0               0.02   0.75    747  754\n",
       "2          0.0               0.16   0.25    762  769\n",
       "3         30.0               0.16   0.25    769  776\n",
       "4          0.0               0.16   0.00    777  784\n",
       "5        150.0               0.02   0.75    784  791"
      ]
     },
     "execution_count": 23,
     "metadata": {},
     "output_type": "execute_result"
    }
   ],
   "source": [
    "stim_table = data_set.get_stimulus_table(\"static_gratings\")\n",
    "# remove blank screen readings\n",
    "stim_table = stim_table[stim_table[\"orientation\"].isna() == False]\n",
    "\n",
    "stim_table.head()"
   ]
  },
  {
   "cell_type": "code",
   "execution_count": 24,
   "id": "a65f8499",
   "metadata": {},
   "outputs": [
    {
     "data": {
      "text/plain": [
       "(5811, 5)"
      ]
     },
     "execution_count": 24,
     "metadata": {},
     "output_type": "execute_result"
    }
   ],
   "source": [
    "stim_table.shape"
   ]
  },
  {
   "cell_type": "code",
   "execution_count": 25,
   "id": "fe8724f4",
   "metadata": {},
   "outputs": [
    {
     "data": {
      "text/html": [
       "<div>\n",
       "<style scoped>\n",
       "    .dataframe tbody tr th:only-of-type {\n",
       "        vertical-align: middle;\n",
       "    }\n",
       "\n",
       "    .dataframe tbody tr th {\n",
       "        vertical-align: top;\n",
       "    }\n",
       "\n",
       "    .dataframe thead th {\n",
       "        text-align: right;\n",
       "    }\n",
       "</style>\n",
       "<table border=\"1\" class=\"dataframe\">\n",
       "  <thead>\n",
       "    <tr style=\"text-align: right;\">\n",
       "      <th></th>\n",
       "      <th>stimulus</th>\n",
       "      <th>start</th>\n",
       "      <th>end</th>\n",
       "    </tr>\n",
       "  </thead>\n",
       "  <tbody>\n",
       "    <tr>\n",
       "      <th>0</th>\n",
       "      <td>static_gratings</td>\n",
       "      <td>747</td>\n",
       "      <td>15193</td>\n",
       "    </tr>\n",
       "    <tr>\n",
       "      <th>1</th>\n",
       "      <td>natural_scenes</td>\n",
       "      <td>16096</td>\n",
       "      <td>30550</td>\n",
       "    </tr>\n",
       "    <tr>\n",
       "      <th>2</th>\n",
       "      <td>spontaneous</td>\n",
       "      <td>30700</td>\n",
       "      <td>39581</td>\n",
       "    </tr>\n",
       "    <tr>\n",
       "      <th>3</th>\n",
       "      <td>natural_scenes</td>\n",
       "      <td>39582</td>\n",
       "      <td>54029</td>\n",
       "    </tr>\n",
       "    <tr>\n",
       "      <th>4</th>\n",
       "      <td>static_gratings</td>\n",
       "      <td>54933</td>\n",
       "      <td>69378</td>\n",
       "    </tr>\n",
       "    <tr>\n",
       "      <th>5</th>\n",
       "      <td>natural_movie_one</td>\n",
       "      <td>70282</td>\n",
       "      <td>79312</td>\n",
       "    </tr>\n",
       "    <tr>\n",
       "      <th>6</th>\n",
       "      <td>natural_scenes</td>\n",
       "      <td>80215</td>\n",
       "      <td>96092</td>\n",
       "    </tr>\n",
       "    <tr>\n",
       "      <th>7</th>\n",
       "      <td>static_gratings</td>\n",
       "      <td>97372</td>\n",
       "      <td>113624</td>\n",
       "    </tr>\n",
       "  </tbody>\n",
       "</table>\n",
       "</div>"
      ],
      "text/plain": [
       "            stimulus  start     end\n",
       "0    static_gratings    747   15193\n",
       "1     natural_scenes  16096   30550\n",
       "2        spontaneous  30700   39581\n",
       "3     natural_scenes  39582   54029\n",
       "4    static_gratings  54933   69378\n",
       "5  natural_movie_one  70282   79312\n",
       "6     natural_scenes  80215   96092\n",
       "7    static_gratings  97372  113624"
      ]
     },
     "execution_count": 25,
     "metadata": {},
     "output_type": "execute_result"
    }
   ],
   "source": [
    "# get stimulus epochs\n",
    "stim_epochs = data_set.get_stimulus_epoch_table()\n",
    "stim_epochs"
   ]
  },
  {
   "cell_type": "code",
   "execution_count": 33,
   "id": "2e076ba6",
   "metadata": {},
   "outputs": [
    {
     "data": {
      "text/plain": [
       "(90, 113850)"
      ]
     },
     "execution_count": 33,
     "metadata": {},
     "output_type": "execute_result"
    }
   ],
   "source": [
    "dff.shape"
   ]
  },
  {
   "cell_type": "code",
   "execution_count": 31,
   "id": "c497e24e",
   "metadata": {},
   "outputs": [
    {
     "data": {
      "text/plain": [
       "(113850,)"
      ]
     },
     "execution_count": 31,
     "metadata": {},
     "output_type": "execute_result"
    }
   ],
   "source": [
    "timestamps.shape"
   ]
  },
  {
   "cell_type": "code",
   "execution_count": 38,
   "id": "613c68fa",
   "metadata": {},
   "outputs": [
    {
     "data": {
      "text/plain": [
       "Text(0, 0.5, 'DFF (%)')"
      ]
     },
     "execution_count": 38,
     "metadata": {},
     "output_type": "execute_result"
    },
    {
     "data": {
      "image/png": "[encoded data removed]",
      "text/plain": [
       "<Figure size 720x360 with 1 Axes>"
      ]
     },
     "metadata": {
      "needs_background": "light"
     },
     "output_type": "display_data"
    }
   ],
   "source": [
    "fig = plt.figure(figsize=(10,5))\n",
    "plt.plot(timestamps, dff[1,:], color='gray')\n",
    "plt.xlabel(\"Time (s)\")\n",
    "plt.ylabel(\"DFF (%)\")"
   ]
  },
  {
   "cell_type": "code",
   "execution_count": null,
   "id": "81100916",
   "metadata": {},
   "outputs": [],
   "source": []
  }
 ],
 "metadata": {
  "kernelspec": {
   "display_name": "Python 3",
   "language": "python",
   "name": "python3"
  },
  "language_info": {
   "codemirror_mode": {
    "name": "ipython",
    "version": 3
   },
   "file_extension": ".py",
   "mimetype": "text/x-python",
   "name": "python",
   "nbconvert_exporter": "python",
   "pygments_lexer": "ipython3",
   "version": "3.8.5"
  }
 },
 "nbformat": 4,
 "nbformat_minor": 5
}
