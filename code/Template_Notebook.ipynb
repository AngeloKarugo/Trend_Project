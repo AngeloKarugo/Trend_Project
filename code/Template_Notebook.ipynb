{
 "cells": [
  {
   "cell_type": "code",
   "execution_count": 1,
   "id": "f3a0c7c1",
   "metadata": {},
   "outputs": [],
   "source": [
    "import numpy as np\n",
    "import pandas as pd\n",
    "import matplotlib.pyplot as plt\n",
    "%matplotlib inline\n",
    "#add other imports as needed"
   ]
  },
  {
   "cell_type": "code",
   "execution_count": 2,
   "id": "eda8d82e",
   "metadata": {},
   "outputs": [],
   "source": [
    "import os"
   ]
  },
  {
   "cell_type": "code",
   "execution_count": 3,
   "id": "0a0c547f",
   "metadata": {},
   "outputs": [],
   "source": [
    "import platform\n",
    "\n",
    "# Set file location based on platform. \n",
    "platstring = platform.platform()\n",
    "if ('Darwin' in platstring) or ('macOS' in platstring):\n",
    "    # macOS \n",
    "    data_root = \"/Volumes/TReND2024/\"\n",
    "elif 'Windows'  in platstring:\n",
    "    # Windows (replace with the drive letter of USB drive)\n",
    "    data_root = \"E:/\"\n",
    "elif ('amzn' in platstring):\n",
    "    # then on Code Ocean\n",
    "    data_root = \"/data/\"\n",
    "else:\n",
    "    # then your own linux platform\n",
    "    # EDIT location where you mounted hard drive\n",
    "    data_root = \"/media/$USERNAME/TReND2024/\""
   ]
  },
  {
   "cell_type": "markdown",
   "id": "d8d3cc34",
   "metadata": {},
   "source": [
    "Use the code block below to access the Two-Photon Calcium Imaging data set.  This is what we used in the tutorials."
   ]
  },
  {
   "cell_type": "code",
   "execution_count": 4,
   "id": "a64e7712",
   "metadata": {},
   "outputs": [],
   "source": [
    "from allensdk.core.brain_observatory_cache import BrainObservatoryCache\n",
    "\n",
    "manifest_file = os.path.join(data_root,'allen-brain-observatory/visual-coding-2p/manifest.json')\n",
    "\n",
    "boc = BrainObservatoryCache(manifest_file=manifest_file)"
   ]
  },
  {
   "cell_type": "markdown",
   "id": "3be833f4",
   "metadata": {},
   "source": [
    "Use code below to access Neuropixels data set.  This is electrophysiological data.  It is very similar to the data set we demonstrated, but has important differences, both in the science and in the access methods used in the python tools."
   ]
  },
  {
   "cell_type": "code",
   "execution_count": 5,
   "id": "df1e2970",
   "metadata": {},
   "outputs": [
    {
     "name": "stderr",
     "output_type": "stream",
     "text": [
      "/opt/conda/lib/python3.8/site-packages/tqdm/auto.py:21: TqdmWarning: IProgress not found. Please update jupyter and ipywidgets. See https://ipywidgets.readthedocs.io/en/stable/user_install.html\n",
      "  from .autonotebook import tqdm as notebook_tqdm\n"
     ]
    }
   ],
   "source": [
    "from allensdk.brain_observatory.ecephys.ecephys_project_cache import EcephysProjectCache\n",
    "\n",
    "manifest_path = os.path.join(data_root,'allen-brain-observatory/visual-coding-neuropixels/ecephys-cache/manifest.json') \n",
    "\n",
    "cache = EcephysProjectCache.from_warehouse(manifest=manifest_path)"
   ]
  },
  {
   "cell_type": "markdown",
   "id": "5211e360",
   "metadata": {},
   "source": []
  },
  {
   "cell_type": "code",
   "execution_count": 6,
   "id": "9f2bede4",
   "metadata": {},
   "outputs": [
    {
     "data": {
      "text/plain": [
       "1"
      ]
     },
     "execution_count": 6,
     "metadata": {},
     "output_type": "execute_result"
    }
   ],
   "source": [
    "cell_id = 517425536\n",
    "sessions= boc.get_ophys_experiments(cell_specimen_ids =[cell_id], stimuli=['static_gratings'])\n",
    "len(sessions)"
   ]
  },
  {
   "cell_type": "code",
   "execution_count": 7,
   "id": "f1303278",
   "metadata": {},
   "outputs": [],
   "source": [
    "data_set = boc.get_ophys_experiment_data(sessions[0][\"id\"])"
   ]
  },
  {
   "cell_type": "code",
   "execution_count": 8,
   "id": "48989556",
   "metadata": {},
   "outputs": [
    {
     "data": {
      "text/plain": [
       "[55]"
      ]
     },
     "execution_count": 8,
     "metadata": {},
     "output_type": "execute_result"
    }
   ],
   "source": [
    "cell_index = data_set.get_cell_specimen_indices([cell_id])\n",
    "\n",
    "cell_index"
   ]
  },
  {
   "cell_type": "code",
   "execution_count": 9,
   "id": "a4a5070f",
   "metadata": {},
   "outputs": [],
   "source": [
    "timestamps, dff = data_set.get_dff_traces() # get cell responses in the dataset"
   ]
  },
  {
   "cell_type": "code",
   "execution_count": 10,
   "id": "f897d44d",
   "metadata": {},
   "outputs": [
    {
     "data": {
      "text/html": [
       "<div>\n",
       "<style scoped>\n",
       "    .dataframe tbody tr th:only-of-type {\n",
       "        vertical-align: middle;\n",
       "    }\n",
       "\n",
       "    .dataframe tbody tr th {\n",
       "        vertical-align: top;\n",
       "    }\n",
       "\n",
       "    .dataframe thead th {\n",
       "        text-align: right;\n",
       "    }\n",
       "</style>\n",
       "<table border=\"1\" class=\"dataframe\">\n",
       "  <thead>\n",
       "    <tr style=\"text-align: right;\">\n",
       "      <th></th>\n",
       "      <th>orientation</th>\n",
       "      <th>spatial_frequency</th>\n",
       "      <th>phase</th>\n",
       "      <th>start</th>\n",
       "      <th>end</th>\n",
       "    </tr>\n",
       "  </thead>\n",
       "  <tbody>\n",
       "    <tr>\n",
       "      <th>0</th>\n",
       "      <td>150.0</td>\n",
       "      <td>0.02</td>\n",
       "      <td>0.75</td>\n",
       "      <td>747</td>\n",
       "      <td>754</td>\n",
       "    </tr>\n",
       "    <tr>\n",
       "      <th>2</th>\n",
       "      <td>0.0</td>\n",
       "      <td>0.16</td>\n",
       "      <td>0.25</td>\n",
       "      <td>762</td>\n",
       "      <td>769</td>\n",
       "    </tr>\n",
       "    <tr>\n",
       "      <th>3</th>\n",
       "      <td>30.0</td>\n",
       "      <td>0.16</td>\n",
       "      <td>0.25</td>\n",
       "      <td>769</td>\n",
       "      <td>776</td>\n",
       "    </tr>\n",
       "    <tr>\n",
       "      <th>4</th>\n",
       "      <td>0.0</td>\n",
       "      <td>0.16</td>\n",
       "      <td>0.00</td>\n",
       "      <td>777</td>\n",
       "      <td>784</td>\n",
       "    </tr>\n",
       "    <tr>\n",
       "      <th>5</th>\n",
       "      <td>150.0</td>\n",
       "      <td>0.02</td>\n",
       "      <td>0.75</td>\n",
       "      <td>784</td>\n",
       "      <td>791</td>\n",
       "    </tr>\n",
       "  </tbody>\n",
       "</table>\n",
       "</div>"
      ],
      "text/plain": [
       "   orientation  spatial_frequency  phase  start  end\n",
       "0        150.0               0.02   0.75    747  754\n",
       "2          0.0               0.16   0.25    762  769\n",
       "3         30.0               0.16   0.25    769  776\n",
       "4          0.0               0.16   0.00    777  784\n",
       "5        150.0               0.02   0.75    784  791"
      ]
     },
     "execution_count": 10,
     "metadata": {},
     "output_type": "execute_result"
    }
   ],
   "source": [
    "stim_table = data_set.get_stimulus_table(\"static_gratings\")\n",
    "# remove blank screen readings\n",
    "stim_table = stim_table[stim_table[\"orientation\"].isna() == False]\n",
    "\n",
    "stim_table.head()"
   ]
  },
  {
   "cell_type": "code",
   "execution_count": 11,
   "id": "4d0d15b1",
   "metadata": {},
   "outputs": [
    {
     "data": {
      "text/html": [
       "<div>\n",
       "<style scoped>\n",
       "    .dataframe tbody tr th:only-of-type {\n",
       "        vertical-align: middle;\n",
       "    }\n",
       "\n",
       "    .dataframe tbody tr th {\n",
       "        vertical-align: top;\n",
       "    }\n",
       "\n",
       "    .dataframe thead th {\n",
       "        text-align: right;\n",
       "    }\n",
       "</style>\n",
       "<table border=\"1\" class=\"dataframe\">\n",
       "  <thead>\n",
       "    <tr style=\"text-align: right;\">\n",
       "      <th></th>\n",
       "      <th>stimulus</th>\n",
       "      <th>start</th>\n",
       "      <th>end</th>\n",
       "    </tr>\n",
       "  </thead>\n",
       "  <tbody>\n",
       "    <tr>\n",
       "      <th>0</th>\n",
       "      <td>static_gratings</td>\n",
       "      <td>747</td>\n",
       "      <td>15193</td>\n",
       "    </tr>\n",
       "    <tr>\n",
       "      <th>1</th>\n",
       "      <td>natural_scenes</td>\n",
       "      <td>16096</td>\n",
       "      <td>30550</td>\n",
       "    </tr>\n",
       "    <tr>\n",
       "      <th>2</th>\n",
       "      <td>spontaneous</td>\n",
       "      <td>30700</td>\n",
       "      <td>39581</td>\n",
       "    </tr>\n",
       "    <tr>\n",
       "      <th>3</th>\n",
       "      <td>natural_scenes</td>\n",
       "      <td>39582</td>\n",
       "      <td>54029</td>\n",
       "    </tr>\n",
       "    <tr>\n",
       "      <th>4</th>\n",
       "      <td>static_gratings</td>\n",
       "      <td>54933</td>\n",
       "      <td>69378</td>\n",
       "    </tr>\n",
       "    <tr>\n",
       "      <th>5</th>\n",
       "      <td>natural_movie_one</td>\n",
       "      <td>70282</td>\n",
       "      <td>79312</td>\n",
       "    </tr>\n",
       "    <tr>\n",
       "      <th>6</th>\n",
       "      <td>natural_scenes</td>\n",
       "      <td>80215</td>\n",
       "      <td>96092</td>\n",
       "    </tr>\n",
       "    <tr>\n",
       "      <th>7</th>\n",
       "      <td>static_gratings</td>\n",
       "      <td>97372</td>\n",
       "      <td>113624</td>\n",
       "    </tr>\n",
       "  </tbody>\n",
       "</table>\n",
       "</div>"
      ],
      "text/plain": [
       "            stimulus  start     end\n",
       "0    static_gratings    747   15193\n",
       "1     natural_scenes  16096   30550\n",
       "2        spontaneous  30700   39581\n",
       "3     natural_scenes  39582   54029\n",
       "4    static_gratings  54933   69378\n",
       "5  natural_movie_one  70282   79312\n",
       "6     natural_scenes  80215   96092\n",
       "7    static_gratings  97372  113624"
      ]
     },
     "execution_count": 11,
     "metadata": {},
     "output_type": "execute_result"
    }
   ],
   "source": [
    "# get stimulus epochs\n",
    "stim_epochs = data_set.get_stimulus_epoch_table()\n",
    "stim_epochs"
   ]
  },
  {
   "cell_type": "code",
   "execution_count": 12,
   "id": "6ed0566c",
   "metadata": {},
   "outputs": [],
   "source": [
    "dff_traces = dff[cell_index]"
   ]
  },
  {
   "cell_type": "code",
   "execution_count": 13,
   "id": "a52853a5",
   "metadata": {},
   "outputs": [
    {
     "data": {
      "text/plain": [
       "(113850,)"
      ]
     },
     "execution_count": 13,
     "metadata": {},
     "output_type": "execute_result"
    }
   ],
   "source": [
    "dff_traces = dff_traces[0]\n",
    "\n",
    "dff_traces.shape"
   ]
  },
  {
   "cell_type": "code",
   "execution_count": 14,
   "id": "f6244aa8",
   "metadata": {},
   "outputs": [
    {
     "data": {
      "text/plain": [
       "Text(0, 0.5, 'DFF (%)')"
      ]
     },
     "execution_count": 14,
     "metadata": {},
     "output_type": "execute_result"
    },
    {
     "data": {
      "image/png": "[encoded data removed]",
      "text/plain": [
       "<Figure size 720x360 with 1 Axes>"
      ]
     },
     "metadata": {
      "needs_background": "light"
     },
     "output_type": "display_data"
    }
   ],
   "source": [
    "fig = plt.figure(figsize=(10,5))\n",
    "plt.plot(dff_traces, color='gray')\n",
    "plt.xlabel(\"Time (s)\")\n",
    "plt.ylabel(\"DFF (%)\")"
   ]
  },
  {
   "cell_type": "code",
   "execution_count": 15,
   "id": "f359b3ba",
   "metadata": {},
   "outputs": [],
   "source": [
    "# get the cell's response per trial\n",
    "response = pd.DataFrame(columns=('orientation','spatial_frequency','trial_response'), index=stim_table.index.values)\n",
    "\n",
    "response['orientation'] = stim_table.orientation\n",
    "response['spatial_frequency'] = stim_table.spatial_frequency\n",
    "\n",
    "pd.options.mode.copy_on_write = True #this let's us write into the dataframe \n",
    "\n",
    "for ind,row_stim in stim_table.iterrows():\n",
    "    response.loc[ind, 'trial_response'] = dff_traces[int(row_stim.start):int(row_stim.end)].mean()"
   ]
  },
  {
   "cell_type": "code",
   "execution_count": 16,
   "id": "5f0ab595",
   "metadata": {},
   "outputs": [
    {
     "data": {
      "text/html": [
       "<div>\n",
       "<style scoped>\n",
       "    .dataframe tbody tr th:only-of-type {\n",
       "        vertical-align: middle;\n",
       "    }\n",
       "\n",
       "    .dataframe tbody tr th {\n",
       "        vertical-align: top;\n",
       "    }\n",
       "\n",
       "    .dataframe thead th {\n",
       "        text-align: right;\n",
       "    }\n",
       "</style>\n",
       "<table border=\"1\" class=\"dataframe\">\n",
       "  <thead>\n",
       "    <tr style=\"text-align: right;\">\n",
       "      <th></th>\n",
       "      <th>orientation</th>\n",
       "      <th>spatial_frequency</th>\n",
       "      <th>trial_response</th>\n",
       "    </tr>\n",
       "  </thead>\n",
       "  <tbody>\n",
       "    <tr>\n",
       "      <th>0</th>\n",
       "      <td>150.0</td>\n",
       "      <td>0.02</td>\n",
       "      <td>0.008848</td>\n",
       "    </tr>\n",
       "    <tr>\n",
       "      <th>2</th>\n",
       "      <td>0.0</td>\n",
       "      <td>0.16</td>\n",
       "      <td>0.040173</td>\n",
       "    </tr>\n",
       "    <tr>\n",
       "      <th>3</th>\n",
       "      <td>30.0</td>\n",
       "      <td>0.16</td>\n",
       "      <td>0.005824</td>\n",
       "    </tr>\n",
       "    <tr>\n",
       "      <th>4</th>\n",
       "      <td>0.0</td>\n",
       "      <td>0.16</td>\n",
       "      <td>-0.04306</td>\n",
       "    </tr>\n",
       "    <tr>\n",
       "      <th>5</th>\n",
       "      <td>150.0</td>\n",
       "      <td>0.02</td>\n",
       "      <td>-0.037968</td>\n",
       "    </tr>\n",
       "  </tbody>\n",
       "</table>\n",
       "</div>"
      ],
      "text/plain": [
       "   orientation  spatial_frequency trial_response\n",
       "0        150.0               0.02       0.008848\n",
       "2          0.0               0.16       0.040173\n",
       "3         30.0               0.16       0.005824\n",
       "4          0.0               0.16       -0.04306\n",
       "5        150.0               0.02      -0.037968"
      ]
     },
     "execution_count": 16,
     "metadata": {},
     "output_type": "execute_result"
    }
   ],
   "source": [
    "response.head()"
   ]
  },
  {
   "cell_type": "code",
   "execution_count": 17,
   "id": "dfddf647",
   "metadata": {},
   "outputs": [
    {
     "data": {
      "text/plain": [
       "Text(0, 0.5, 'Mean DF/F')"
      ]
     },
     "execution_count": 17,
     "metadata": {},
     "output_type": "execute_result"
    },
    {
     "data": {
      "image/png": "[encoded data removed]",
      "text/plain": [
       "<Figure size 1296x648 with 1 Axes>"
      ]
     },
     "metadata": {
      "needs_background": "light"
     },
     "output_type": "display_data"
    }
   ],
   "source": [
    "fig = plt.figure(figsize=(18,9))\n",
    "plt.plot(response.orientation.values, response.trial_response.values, '.')\n",
    "plt.xticks(range(0,210,30))\n",
    "plt.xlim(-10,210)\n",
    "plt.xlabel(\"Direction\", fontsize=16)\n",
    "plt.ylabel(\"Mean DF/F\", fontsize=16)"
   ]
  },
  {
   "cell_type": "code",
   "execution_count": 18,
   "id": "14007542",
   "metadata": {},
   "outputs": [
    {
     "data": {
      "text/plain": [
       "Text(0, 0.5, 'Mean DF/F')"
      ]
     },
     "execution_count": 18,
     "metadata": {},
     "output_type": "execute_result"
    },
    {
     "data": {
      "image/png": "[encoded data removed]",
      "text/plain": [
       "<Figure size 432x288 with 1 Axes>"
      ]
     },
     "metadata": {
      "needs_background": "light"
     },
     "output_type": "display_data"
    }
   ],
   "source": [
    "plt.plot(response.spatial_frequency.values, response.trial_response.values, 'o')\n",
    "plt.xlabel(\"Spatial frequency\", fontsize=16)\n",
    "plt.ylabel(\"Mean DF/F\", fontsize=16)"
   ]
  },
  {
   "cell_type": "code",
   "execution_count": 19,
   "id": "98e12df1",
   "metadata": {},
   "outputs": [
    {
     "name": "stdout",
     "output_type": "stream",
     "text": [
      "[  0.  30.  60.  90. 120. 150.]\n"
     ]
    }
   ],
   "source": [
    "# get unique orientations\n",
    "\n",
    "all_ori = np.sort(stim_table.orientation.unique())\n",
    "orivals = all_ori[np.isfinite(all_ori)]\n",
    "print(orivals)"
   ]
  },
  {
   "cell_type": "code",
   "execution_count": 20,
   "id": "68b73587",
   "metadata": {},
   "outputs": [
    {
     "data": {
      "text/plain": [
       "array([  0.,  30.,  60.,  90., 120., 150.], dtype=float32)"
      ]
     },
     "execution_count": 20,
     "metadata": {},
     "output_type": "execute_result"
    }
   ],
   "source": [
    "np.sort(stim_table.orientation.dropna().unique())"
   ]
  },
  {
   "cell_type": "code",
   "execution_count": 21,
   "id": "d059262a",
   "metadata": {},
   "outputs": [],
   "source": [
    "# orientation tuning\n",
    "\n",
    "tuning = np.empty((6))\n",
    "for i, ori in enumerate(orivals):\n",
    "    trials = response[response.orientation==ori]\n",
    "    tuning[i] = trials.trial_response.mean()\n",
    "    #tuning[i] = response[response.orientation==ori].trial_response.mean()"
   ]
  },
  {
   "cell_type": "code",
   "execution_count": 22,
   "id": "ea6a920d",
   "metadata": {},
   "outputs": [
    {
     "data": {
      "image/png": "[encoded data removed]",
      "text/plain": [
       "<Figure size 432x288 with 1 Axes>"
      ]
     },
     "metadata": {
      "needs_background": "light"
     },
     "output_type": "display_data"
    }
   ],
   "source": [
    "# plot tuning curve\n",
    "\n",
    "plt.plot(orivals,tuning, 'o-')\n",
    "plt.xlabel(\"Direction (deg)\")\n",
    "plt.ylabel(\"Mean response (DFF)\")\n",
    "\n",
    "tuning_std=np.empty(6)\n",
    "for i, ori in enumerate (orivals):\n",
    "    trials = response[response.orientation==ori]\n",
    "    tuning_std[i]=trials.trial_response.std()\n",
    "\n",
    "# plt.errorbar(orivals, tuning, yerr=tuning_std, fmt='o-')"
   ]
  },
  {
   "cell_type": "code",
   "execution_count": 23,
   "id": "c74d4306",
   "metadata": {},
   "outputs": [
    {
     "data": {
      "text/plain": [
       "<ErrorbarContainer object of 3 artists>"
      ]
     },
     "execution_count": 23,
     "metadata": {},
     "output_type": "execute_result"
    },
    {
     "data": {
      "image/png": "[encoded data removed]",
      "text/plain": [
       "<Figure size 432x288 with 1 Axes>"
      ]
     },
     "metadata": {
      "needs_background": "light"
     },
     "output_type": "display_data"
    }
   ],
   "source": [
    "# tuning for spatial frequency\n",
    "\n",
    "sfvals = np.sort(stim_table.spatial_frequency.unique())\n",
    "sfvals = sfvals[np.isfinite(sfvals)]\n",
    "\n",
    "tuning_sf = np.empty((len(sfvals)))\n",
    "for i,sf in enumerate(sfvals):\n",
    "    trials = response[response.spatial_frequency==sf]\n",
    "    tuning_sf[i] = trials.trial_response.mean()\n",
    "    \n",
    "plt.plot(sfvals, tuning_sf, 'o-')\n",
    "plt.xlabel(\"Spatial frequency (Hz)\")\n",
    "plt.ylabel(\"Mean response (DFF)\")\n",
    "\n",
    "tuning_std=np.empty(5)\n",
    "for i, sf in enumerate (sfvals):\n",
    "    trials = response[response.spatial_frequency==sf]\n",
    "    tuning_std[i]=trials.trial_response.std()\n",
    "\n",
    "plt.errorbar(sfvals, tuning_sf, yerr=tuning_std, fmt='o-')"
   ]
  },
  {
   "cell_type": "code",
   "execution_count": 39,
   "id": "ebd749b5",
   "metadata": {},
   "outputs": [
    {
     "data": {
      "text/plain": [
       "[<matplotlib.lines.Line2D at 0x7f4fedecf130>]"
      ]
     },
     "execution_count": 39,
     "metadata": {},
     "output_type": "execute_result"
    },
    {
     "data": {
      "image/png": "[encoded data removed]",
      "text/plain": [
       "<Figure size 432x288 with 1 Axes>"
      ]
     },
     "metadata": {
      "needs_background": "light"
     },
     "output_type": "display_data"
    }
   ],
   "source": [
    "# plot mean response for stimulus exposure\n",
    "static_gratings_epochs = stim_epochs.loc[stim_epochs[\"stimulus\"] == \"static_gratings\"].reset_index(drop=True);\n",
    "\n",
    "stim_epochs_mean_responses = np.empty(len(static_gratings_epochs.index))\n",
    "\n",
    "for index, epoch in static_gratings_epochs.iterrows():\n",
    "    stim_epochs_mean_responses[index] = dff_traces[int(epoch.start):int(epoch.end)].mean()\n",
    "        \n",
    "plt.plot(stim_epochs_mean_responses, \"-o\")"
   ]
  },
  {
   "cell_type": "code",
   "execution_count": null,
   "id": "14c8a6c1",
   "metadata": {},
   "outputs": [],
   "source": []
  }
 ],
 "metadata": {
  "kernelspec": {
   "display_name": "Python 3",
   "language": "python",
   "name": "python3"
  },
  "language_info": {
   "codemirror_mode": {
    "name": "ipython",
    "version": 3
   },
   "file_extension": ".py",
   "mimetype": "text/x-python",
   "name": "python",
   "nbconvert_exporter": "python",
   "pygments_lexer": "ipython3",
   "version": "3.8.5"
  }
 },
 "nbformat": 4,
 "nbformat_minor": 5
}
